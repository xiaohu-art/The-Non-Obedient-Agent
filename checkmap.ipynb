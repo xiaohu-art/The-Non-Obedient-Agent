{
 "cells": [
  {
   "cell_type": "code",
   "execution_count": 2,
   "metadata": {},
   "outputs": [],
   "source": [
    "import matplotlib.pyplot as plt\n",
    "import numpy as np"
   ]
  },
  {
   "cell_type": "code",
   "execution_count": 3,
   "metadata": {},
   "outputs": [
    {
     "data": {
      "image/png": "[encoded data removed]",
      "text/plain": [
       "<Figure size 640x480 with 1 Axes>"
      ]
     },
     "metadata": {},
     "output_type": "display_data"
    }
   ],
   "source": [
    "grid = np.load(\"runs\\weight_0.01_slippery_False_\\grid.npy\")\n",
    "\n",
    "x1, x2 = 0, 8\n",
    "y1, y2 = 0, 8\n",
    "plt.axis([x1, x2, y1, y2])\n",
    "plt.axis(\"on\")\n",
    "\n",
    "dx = 1\n",
    "dy = 1\n",
    "\n",
    "for x_ in np.arange(x1, x2, dx):\n",
    "    for y_ in np.arange(y1, y2, dy):\n",
    "        x = 7 - x_\n",
    "        y = 7 - y_\n",
    "        if grid[x, y] == 0:\n",
    "            plt.fill([x, x+dx, x+dx, x], [y, y, y+dy, y+dy], \"white\")\n",
    "        elif grid[x, y] == -1:\n",
    "            plt.fill([x, x+dx, x+dx, x], [y, y, y+dy, y+dy], \"black\")\n",
    "        elif grid[x, y] == 5:\n",
    "            plt.fill([x, x+dx, x+dx, x], [y, y, y+dy, y+dy], \"red\")\n",
    "        else:\n",
    "            plt.fill([x, x+dx, x+dx, x], [y, y, y+dy, y+dy], \"green\")\n",
    "\n",
    "plt.show()\n"
   ]
  },
  {
   "cell_type": "code",
   "execution_count": null,
   "metadata": {},
   "outputs": [],
   "source": []
  }
 ],
 "metadata": {
  "kernelspec": {
   "display_name": "DRL",
   "language": "python",
   "name": "python3"
  },
  "language_info": {
   "codemirror_mode": {
    "name": "ipython",
    "version": 3
   },
   "file_extension": ".py",
   "mimetype": "text/x-python",
   "name": "python",
   "nbconvert_exporter": "python",
   "pygments_lexer": "ipython3",
   "version": "3.10.9"
  },
  "orig_nbformat": 4
 },
 "nbformat": 4,
 "nbformat_minor": 2
}
